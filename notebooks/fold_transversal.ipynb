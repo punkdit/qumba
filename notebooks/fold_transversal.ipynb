{
 "cells": [
  {
   "cell_type": "code",
   "execution_count": 4,
   "id": "57e4ea5a",
   "metadata": {},
   "outputs": [],
   "source": [
    "from qumba.solve import parse, linear_independent\n",
    "from qumba.qcode import QCode\n",
    "from qumba.csscode import find_zx_duality"
   ]
  },
  {
   "cell_type": "code",
   "execution_count": 7,
   "id": "9c6a62be",
   "metadata": {},
   "outputs": [
    {
     "name": "stdout",
     "output_type": "stream",
     "text": [
      "(10, 2, 3)\n"
     ]
    }
   ],
   "source": [
    "# build [[10,2,3]] code\n",
    "\n",
    "Ax = parse(\"\"\"\n",
    "X..X..XX..\n",
    ".X..X..XX.\n",
    "X.X.....XX\n",
    ".X.X.X...X\n",
    "..X.XXX...\n",
    "\"\"\")\n",
    "\n",
    "Az = parse(\"\"\"\n",
    ".ZZ..Z..Z.\n",
    "..ZZ..Z..Z\n",
    "...ZZZ.Z..\n",
    "Z...Z.Z.Z.\n",
    "ZZ.....Z.Z\n",
    "\"\"\")\n",
    "\n",
    "Hx = linear_independent(Ax)\n",
    "Hz = linear_independent(Az)\n",
    "code = QCode.build_css(Hx, Hz)\n",
    "print(code.get_params())"
   ]
  },
  {
   "cell_type": "code",
   "execution_count": 9,
   "id": "b71b7e34",
   "metadata": {},
   "outputs": [
    {
     "name": "stdout",
     "output_type": "stream",
     "text": [
      "[5, 6, 7, 8, 9, 0, 1, 2, 3, 4]\n"
     ]
    }
   ],
   "source": [
    "duality = find_zx_duality(Ax, Az)\n",
    "print(duality)"
   ]
  },
  {
   "cell_type": "code",
   "execution_count": 15,
   "id": "b5c3f144",
   "metadata": {},
   "outputs": [
    {
     "name": "stdout",
     "output_type": "stream",
     "text": [
      "[(0, 5), (1, 6), (2, 7), (3, 8), (4, 9)]\n"
     ]
    }
   ],
   "source": [
    "# find the pairs\n",
    "n = code.n\n",
    "pairs = []\n",
    "remain = set(range(n))\n",
    "for i, j in enumerate(duality):\n",
    "    assert duality[j] == i\n",
    "    assert i != j, \"todo: need an S gate here...\"\n",
    "    if i<j:\n",
    "        pairs.append((i, j))\n",
    "print(pairs)"
   ]
  },
  {
   "cell_type": "code",
   "execution_count": 16,
   "id": "a6de5eea",
   "metadata": {},
   "outputs": [
    {
     "name": "stdout",
     "output_type": "stream",
     "text": [
      "[[1 0 0 0]\n",
      " [0 1 1 0]\n",
      " [0 0 1 0]\n",
      " [1 0 0 1]]\n"
     ]
    }
   ],
   "source": [
    "# apply CZ on each pair\n",
    "dode = code\n",
    "for (i,j) in pairs:\n",
    "    dode = dode.apply_CZ(i, j)\n",
    "    #print(dode.get_params()) # check intermediate codes\n",
    "    #print(dode.equiv(code))\n",
    "assert dode.equiv(code) # we are back where we started\n",
    "\n",
    "print(code.get_logical(dode)) # encoded CZ"
   ]
  },
  {
   "cell_type": "code",
   "execution_count": null,
   "id": "cf583690",
   "metadata": {},
   "outputs": [],
   "source": []
  }
 ],
 "metadata": {
  "kernelspec": {
   "display_name": "Python 3",
   "language": "python",
   "name": "python3"
  },
  "language_info": {
   "codemirror_mode": {
    "name": "ipython",
    "version": 3
   },
   "file_extension": ".py",
   "mimetype": "text/x-python",
   "name": "python",
   "nbconvert_exporter": "python",
   "pygments_lexer": "ipython3",
   "version": "3.10.12"
  }
 },
 "nbformat": 4,
 "nbformat_minor": 5
}
