{
 "cells": [
  {
   "cell_type": "code",
   "execution_count": 1,
   "id": "0d0b9796",
   "metadata": {},
   "outputs": [],
   "source": [
    "from qumba.gallagher import *"
   ]
  },
  {
   "cell_type": "code",
   "execution_count": 2,
   "id": "a5966861",
   "metadata": {},
   "outputs": [
    {
     "name": "stdout",
     "output_type": "stream",
     "text": [
      "[20, 4, 8]\n",
      "girth = 6\n",
      "rank = 16\n"
     ]
    }
   ],
   "source": [
    "c = get_code(\"qc20\")"
   ]
  },
  {
   "cell_type": "code",
   "execution_count": 3,
   "id": "42c9b7fc",
   "metadata": {},
   "outputs": [
    {
     "name": "stdout",
     "output_type": "stream",
     "text": [
      "[[656, 16]]\n"
     ]
    }
   ],
   "source": [
    "print(c)"
   ]
  },
  {
   "cell_type": "code",
   "execution_count": 4,
   "id": "2517b752",
   "metadata": {},
   "outputs": [
    {
     "data": {
      "text/plain": [
       "['qc20',\n",
       " 'qc35',\n",
       " 'qc45',\n",
       " 'qc60',\n",
       " 'qc100_23',\n",
       " 'qc100_27',\n",
       " 'joschka12',\n",
       " 'joschka16',\n",
       " 'joschka20',\n",
       " 'joschka24',\n",
       " 'joschka28',\n",
       " 'joschka32',\n",
       " 'joschka36',\n",
       " 'joschka40',\n",
       " 'joschka44',\n",
       " 'joschka60',\n",
       " 'joschka80',\n",
       " 'joschka100',\n",
       " 'joschka100_22']"
      ]
     },
     "execution_count": 4,
     "metadata": {},
     "output_type": "execute_result"
    }
   ],
   "source": [
    "list(db.keys())"
   ]
  },
  {
   "cell_type": "code",
   "execution_count": 5,
   "id": "3eebef94",
   "metadata": {},
   "outputs": [
    {
     "name": "stdout",
     "output_type": "stream",
     "text": [
      "[12, 3, 6]\n",
      "girth = 6\n",
      "rank = 9\n"
     ]
    }
   ],
   "source": [
    "code = get_code(\"joschka12\")"
   ]
  },
  {
   "cell_type": "code",
   "execution_count": 6,
   "id": "6463d79a",
   "metadata": {},
   "outputs": [
    {
     "name": "stdout",
     "output_type": "stream",
     "text": [
      "[[225, 9]]\n"
     ]
    }
   ],
   "source": [
    "print(code)"
   ]
  },
  {
   "cell_type": "code",
   "execution_count": null,
   "id": "c3d285b4",
   "metadata": {},
   "outputs": [],
   "source": []
  }
 ],
 "metadata": {
  "kernelspec": {
   "display_name": "Python 3",
   "language": "python",
   "name": "python3"
  },
  "language_info": {
   "codemirror_mode": {
    "name": "ipython",
    "version": 3
   },
   "file_extension": ".py",
   "mimetype": "text/x-python",
   "name": "python",
   "nbconvert_exporter": "python",
   "pygments_lexer": "ipython3",
   "version": "3.10.12"
  }
 },
 "nbformat": 4,
 "nbformat_minor": 5
}
