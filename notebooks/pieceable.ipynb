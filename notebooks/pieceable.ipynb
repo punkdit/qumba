{
 "cells": [
  {
   "cell_type": "code",
   "execution_count": 1,
   "id": "f90e7e13",
   "metadata": {},
   "outputs": [],
   "source": [
    "from qumba.construct import *"
   ]
  },
  {
   "cell_type": "code",
   "execution_count": 5,
   "id": "54a4a1e3",
   "metadata": {},
   "outputs": [
    {
     "name": "stdout",
     "output_type": "stream",
     "text": [
      "[[5, 1, ?]]\n"
     ]
    }
   ],
   "source": [
    "code = QCode.fromstr(\"YZXIZ ZZZXI IXZZZ ZIXZY\")\n",
    "print(code)"
   ]
  },
  {
   "cell_type": "code",
   "execution_count": 6,
   "id": "c76c1722",
   "metadata": {},
   "outputs": [
    {
     "name": "stdout",
     "output_type": "stream",
     "text": [
      "[[10, 2, ?]]\n"
     ]
    }
   ],
   "source": [
    "dode = code + code\n",
    "print(dode)"
   ]
  },
  {
   "cell_type": "code",
   "execution_count": 16,
   "id": "15c9edb2",
   "metadata": {},
   "outputs": [],
   "source": [
    "eode = dode\n",
    "for j in [0,2,4]:\n",
    "    for k in [0,2,4]:\n",
    "        eode = eode.apply_CZ(j,5+k)\n",
    "        assert eode.get_distance() == 3\n",
    "        "
   ]
  },
  {
   "cell_type": "code",
   "execution_count": 17,
   "id": "a0132839",
   "metadata": {},
   "outputs": [],
   "source": [
    "assert eode.is_equiv(dode)"
   ]
  },
  {
   "cell_type": "code",
   "execution_count": null,
   "id": "fcac1d3b",
   "metadata": {},
   "outputs": [],
   "source": []
  }
 ],
 "metadata": {
  "kernelspec": {
   "display_name": "Python 3",
   "language": "python",
   "name": "python3"
  },
  "language_info": {
   "codemirror_mode": {
    "name": "ipython",
    "version": 3
   },
   "file_extension": ".py",
   "mimetype": "text/x-python",
   "name": "python",
   "nbconvert_exporter": "python",
   "pygments_lexer": "ipython3",
   "version": "3.10.12"
  }
 },
 "nbformat": 4,
 "nbformat_minor": 5
}
