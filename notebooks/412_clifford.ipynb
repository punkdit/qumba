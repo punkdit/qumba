{
 "cells": [
  {
   "cell_type": "code",
   "execution_count": 1,
   "id": "86bbf2cf",
   "metadata": {},
   "outputs": [],
   "source": [
    "from qumba.qcode import *\n",
    "from qumba.clifford_sage import *"
   ]
  },
  {
   "cell_type": "code",
   "execution_count": null,
   "id": "c52fd595",
   "metadata": {},
   "outputs": [],
   "source": []
  },
  {
   "cell_type": "code",
   "execution_count": 20,
   "id": "9a09e5be",
   "metadata": {},
   "outputs": [
    {
     "name": "stdout",
     "output_type": "stream",
     "text": [
      "H =\n",
      "XYZ.\n",
      ".XYZ\n",
      "Z.XY\n",
      "T =\n",
      "Z...\n",
      "Z.X.\n",
      "Z.XX\n",
      "L =\n",
      "ZX..\n",
      ".ZX.\n"
     ]
    }
   ],
   "source": [
    "code = QCode.fromstr(\"XYZI IXYZ ZIXY\")\n",
    "#print(code.get_params())\n",
    "print(code.longstr())"
   ]
  },
  {
   "cell_type": "code",
   "execution_count": 23,
   "id": "78665373",
   "metadata": {},
   "outputs": [
    {
     "name": "stdout",
     "output_type": "stream",
     "text": [
      "H =\n",
      "YXZ.\n",
      "X.YZ\n",
      ".ZXY\n",
      "T =\n",
      ".Z..\n",
      ".ZX.\n",
      ".ZXX\n",
      "L =\n",
      "XZ..\n",
      "Z.X.\n"
     ]
    }
   ],
   "source": [
    "dode = code.apply_perm([1,0,2,3,])\n",
    "print(dode.longstr())"
   ]
  },
  {
   "cell_type": "code",
   "execution_count": 31,
   "id": "d824a453",
   "metadata": {},
   "outputs": [
    {
     "name": "stdout",
     "output_type": "stream",
     "text": [
      "1296\n"
     ]
    }
   ],
   "source": [
    "eode = dode\n",
    "space = code.space\n",
    "gen = []\n",
    "for i in range(4):\n",
    "    gen.append( space.get_S(i) )\n",
    "    gen.append( space.get_H(i) )\n",
    "G = mulclose(gen)\n",
    "print(len(G))\n",
    "for g in G:\n",
    "    eode = dode.apply(g)\n",
    "    if eode.is_equiv(code):\n",
    "        break\n",
    "name = g.name"
   ]
  },
  {
   "cell_type": "code",
   "execution_count": 18,
   "id": "fc16ff51",
   "metadata": {},
   "outputs": [
    {
     "name": "stdout",
     "output_type": "stream",
     "text": [
      "XYZ.\n",
      ".XYZ\n",
      "Z.XY\n"
     ]
    }
   ],
   "source": [
    "H = code.H\n",
    "n = code.n\n",
    "c = Clifford(4)\n",
    "I = c.get_identity()\n",
    "P = I\n",
    "gens = []\n",
    "for u in H:\n",
    "    desc = strop(u)\n",
    "    print(desc)\n",
    "    g = c.get_pauli(desc)\n",
    "    #print(g)\n",
    "    P *= half * (I + g)"
   ]
  },
  {
   "cell_type": "code",
   "execution_count": 42,
   "id": "f6795bd1",
   "metadata": {},
   "outputs": [
    {
     "name": "stdout",
     "output_type": "stream",
     "text": [
      "False\n"
     ]
    }
   ],
   "source": [
    "gate = c.get_expr(name)\n",
    "gate = gate*p\n",
    "print(gate*P == P*gate)\n"
   ]
  },
  {
   "cell_type": "code",
   "execution_count": 34,
   "id": "005152b5",
   "metadata": {},
   "outputs": [],
   "source": [
    "assert P*P == P"
   ]
  },
  {
   "cell_type": "code",
   "execution_count": 35,
   "id": "2c0f4dab",
   "metadata": {},
   "outputs": [
    {
     "name": "stdout",
     "output_type": "stream",
     "text": [
      "True\n"
     ]
    }
   ],
   "source": [
    "g = c.get_P(1,2,3,0)\n",
    "print(g*P == P*g)"
   ]
  },
  {
   "cell_type": "code",
   "execution_count": 52,
   "id": "45a748f2",
   "metadata": {},
   "outputs": [
    {
     "name": "stdout",
     "output_type": "stream",
     "text": [
      "512\n"
     ]
    }
   ],
   "source": [
    "p = c.get_P(1,0,2,3)\n",
    "names = []\n",
    "gen = []\n",
    "for i in [0,1,2,3]:\n",
    "    X, Z = c.get_X(i), c.get_Z(i)\n",
    "    names.append( \"X%d\"%i)\n",
    "    names.append(\"Z%d\"%i)\n",
    "    gen += [X,Z]\n",
    "names = mulclose_names(gen, names)\n",
    "print(len(names))"
   ]
  },
  {
   "cell_type": "code",
   "execution_count": 56,
   "id": "71297235",
   "metadata": {},
   "outputs": [
    {
     "name": "stdout",
     "output_type": "stream",
     "text": [
      "('X0', 'X2')\n",
      "('X0', 'Z1')\n",
      "('Z0', 'X3')\n",
      "('Z0', 'Z2')\n",
      "('X1', 'X3')\n",
      "('X1', 'Z2')\n",
      "('Z1', 'Z3')\n",
      "('X2', 'Z3')\n",
      "('X0', 'Z0', 'X0', 'X3')\n",
      "('X0', 'Z0', 'X0', 'Z2')\n",
      "('X0', 'Z0', 'X1', 'X2')\n",
      "('X0', 'Z0', 'X1', 'Z1')\n",
      "('X0', 'Z0', 'Z1', 'X1')\n",
      "('X0', 'Z0', 'Z2', 'Z3')\n",
      "('X0', 'Z0', 'X3', 'Z3')\n",
      "('X0', 'Z0', 'Z3', 'X3')\n",
      "('X0', 'X1', 'Z1', 'X1')\n",
      "('X0', 'X1', 'Z2', 'Z3')\n",
      "('X0', 'X1', 'X3', 'Z3')\n",
      "('X0', 'X1', 'Z3', 'X3')\n",
      "('X0', 'Z1', 'Z2', 'X3')\n",
      "('X0', 'X2', 'Z2', 'X3')\n",
      "('X0', 'Z2', 'X2', 'X3')\n",
      "('X0', 'Z2', 'X2', 'Z2')\n",
      "('Z0', 'X0', 'X1', 'X2')\n",
      "('Z0', 'X0', 'Z2', 'Z3')\n",
      "('Z0', 'X1', 'Z1', 'Z3')\n",
      "('Z0', 'X1', 'X2', 'Z3')\n",
      "('Z0', 'Z1', 'X1', 'Z3')\n",
      "('Z0', 'Z1', 'X2', 'X3')\n",
      "('Z0', 'Z1', 'X2', 'Z2')\n",
      "('Z0', 'Z1', 'Z2', 'X2')\n",
      "('X1', 'Z1', 'X1', 'Z3')\n",
      "('X1', 'Z1', 'X2', 'X3')\n",
      "('X1', 'Z1', 'X2', 'Z2')\n",
      "('X1', 'Z1', 'Z2', 'X2')\n",
      "('X1', 'X2', 'Z2', 'X2')\n",
      "('X1', 'Z3', 'X3', 'Z3')\n",
      "('Z1', 'X1', 'X2', 'X3')\n",
      "('Z1', 'Z2', 'X3', 'Z3')\n",
      "('Z1', 'Z2', 'Z3', 'X3')\n",
      "('X2', 'Z2', 'X3', 'Z3')\n",
      "('X2', 'Z2', 'Z3', 'X3')\n",
      "('X2', 'X3', 'Z3', 'X3')\n",
      "('X0', 'Z0', 'X0', 'X1', 'X2', 'Z3')\n",
      "('X0', 'Z0', 'X0', 'Z1', 'X2', 'X3')\n",
      "('X0', 'Z0', 'X1', 'Z1', 'Z2', 'X3')\n",
      "('X0', 'Z0', 'X1', 'X2', 'Z2', 'X3')\n",
      "('X0', 'Z0', 'X1', 'Z2', 'X2', 'X3')\n",
      "('X0', 'Z0', 'Z1', 'X1', 'Z2', 'X3')\n",
      "('X0', 'Z0', 'Z1', 'X2', 'Z2', 'Z3')\n",
      "('X0', 'Z0', 'Z1', 'X2', 'X3', 'Z3')\n",
      "('X0', 'Z0', 'Z1', 'X2', 'Z3', 'X3')\n",
      "('X0', 'Z0', 'Z1', 'Z2', 'X2', 'Z3')\n",
      "('X0', 'X1', 'Z1', 'X1', 'Z2', 'X3')\n",
      "('X0', 'X1', 'Z1', 'X2', 'Z2', 'Z3')\n",
      "('X0', 'X1', 'Z1', 'X2', 'X3', 'Z3')\n",
      "('X0', 'X1', 'Z1', 'X2', 'Z3', 'X3')\n",
      "('X0', 'X1', 'Z1', 'Z2', 'X2', 'Z3')\n",
      "('X0', 'X1', 'X2', 'Z2', 'X2', 'Z3')\n",
      "('Z0', 'X1', 'Z1', 'Z2', 'X3', 'Z3')\n",
      "('Z0', 'X1', 'Z1', 'Z2', 'Z3', 'X3')\n",
      "('Z0', 'X1', 'X2', 'Z2', 'X3', 'Z3')\n",
      "('Z0', 'X1', 'X2', 'Z2', 'Z3', 'X3')\n"
     ]
    }
   ],
   "source": [
    "#print(len(G))\n",
    "for g,name in names.items():\n",
    "    #print(g)\n",
    "    op = gate*g\n",
    "    if(op*P == P*op):\n",
    "        print(name)\n",
    "        #break\n",
    "#print(g)"
   ]
  },
  {
   "cell_type": "code",
   "execution_count": null,
   "id": "1a86b922",
   "metadata": {},
   "outputs": [],
   "source": []
  }
 ],
 "metadata": {
  "kernelspec": {
   "display_name": "Python 3",
   "language": "python",
   "name": "python3"
  },
  "language_info": {
   "codemirror_mode": {
    "name": "ipython",
    "version": 3
   },
   "file_extension": ".py",
   "mimetype": "text/x-python",
   "name": "python",
   "nbconvert_exporter": "python",
   "pygments_lexer": "ipython3",
   "version": "3.10.12"
  }
 },
 "nbformat": 4,
 "nbformat_minor": 5
}
