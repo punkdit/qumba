{
 "cells": [
  {
   "cell_type": "code",
   "execution_count": 1,
   "id": "5afb3bad",
   "metadata": {},
   "outputs": [],
   "source": [
    "from qumba.test import *\n"
   ]
  },
  {
   "cell_type": "code",
   "execution_count": 2,
   "id": "f030c9aa",
   "metadata": {},
   "outputs": [],
   "source": [
    "s = SymplecticSpace(1)"
   ]
  },
  {
   "cell_type": "code",
   "execution_count": 3,
   "id": "9010087d",
   "metadata": {},
   "outputs": [],
   "source": [
    "H = s.get_H()"
   ]
  },
  {
   "cell_type": "code",
   "execution_count": 4,
   "id": "03a39832",
   "metadata": {},
   "outputs": [],
   "source": [
    "S = s.get_S()\n"
   ]
  },
  {
   "cell_type": "code",
   "execution_count": 6,
   "id": "f334987d",
   "metadata": {},
   "outputs": [
    {
     "name": "stdout",
     "output_type": "stream",
     "text": [
      "[[1.]\n",
      " [11]]\n"
     ]
    }
   ],
   "source": [
    "print(S)"
   ]
  },
  {
   "cell_type": "code",
   "execution_count": 8,
   "id": "2c47ef99",
   "metadata": {},
   "outputs": [
    {
     "name": "stdout",
     "output_type": "stream",
     "text": [
      "[[11]\n",
      " [.1]]\n"
     ]
    }
   ],
   "source": [
    "print(H*S*H)"
   ]
  },
  {
   "cell_type": "code",
   "execution_count": 9,
   "id": "8fd4144b",
   "metadata": {},
   "outputs": [
    {
     "name": "stdout",
     "output_type": "stream",
     "text": [
      "translate_clifford:\n",
      "\t ('S(0)',)\n",
      "\t ('H(0)',)\n",
      "\t ('S(0)',)\n"
     ]
    },
    {
     "data": {
      "text/plain": [
       "[[-1/2*zeta8^3 + 1/2*zeta8  1/2*zeta8^3 + 1/2*zeta8]\n",
       " [ 1/2*zeta8^3 + 1/2*zeta8 -1/2*zeta8^3 + 1/2*zeta8]]"
      ]
     },
     "execution_count": 9,
     "metadata": {},
     "output_type": "execute_result"
    }
   ],
   "source": [
    "translate_clifford(s, H*S*H, verbose=True)"
   ]
  },
  {
   "cell_type": "code",
   "execution_count": 10,
   "id": "2c03caa5",
   "metadata": {},
   "outputs": [],
   "source": [
    "s = SymplecticSpace(2)\n",
    "M = s.get_P(1,0)*s.get_CNOT()*s.get_H(1)"
   ]
  },
  {
   "cell_type": "code",
   "execution_count": 12,
   "id": "bc2643e5",
   "metadata": {},
   "outputs": [
    {
     "name": "stdout",
     "output_type": "stream",
     "text": [
      "[[1..1]\n",
      " [..1.]\n",
      " [1...]\n",
      " [.11.]]\n"
     ]
    }
   ],
   "source": [
    "print(M)"
   ]
  },
  {
   "cell_type": "code",
   "execution_count": 16,
   "id": "5cea4605",
   "metadata": {},
   "outputs": [
    {
     "name": "stdout",
     "output_type": "stream",
     "text": [
      "translate_clifford:\n",
      "\t ()\n",
      "\t ('H(0)', 'P(1,0).t')\n",
      "\t ('CZ(0,1)',)\n"
     ]
    }
   ],
   "source": [
    "E = translate_clifford(s, M, verbose=True)"
   ]
  },
  {
   "cell_type": "code",
   "execution_count": 15,
   "id": "d9d46101",
   "metadata": {},
   "outputs": [
    {
     "data": {
      "text/plain": [
       "True"
      ]
     },
     "execution_count": 15,
     "metadata": {},
     "output_type": "execute_result"
    }
   ],
   "source": [
    "Mt = s.get_H(1)*s.get_CNOT(1,0)*s.get_P(1,0)\n",
    "Mt == M.t"
   ]
  },
  {
   "cell_type": "code",
   "execution_count": 17,
   "id": "a5039d9c",
   "metadata": {},
   "outputs": [],
   "source": [
    "code = QCode.fromstr(\"ZZI IZZ XXX\")"
   ]
  },
  {
   "cell_type": "code",
   "execution_count": 18,
   "id": "3b1e12c1",
   "metadata": {},
   "outputs": [],
   "source": [
    "E = code.get_encoder()"
   ]
  },
  {
   "cell_type": "code",
   "execution_count": 19,
   "id": "a9eb68c7",
   "metadata": {},
   "outputs": [
    {
     "name": "stdout",
     "output_type": "stream",
     "text": [
      "[[.1.11.]\n",
      " [1.....]\n",
      " [...11.]\n",
      " [1.1...]\n",
      " [....1.]\n",
      " [..1..1]]\n"
     ]
    }
   ],
   "source": [
    "print(E)"
   ]
  },
  {
   "cell_type": "code",
   "execution_count": 20,
   "id": "3ace90e4",
   "metadata": {},
   "outputs": [
    {
     "name": "stdout",
     "output_type": "stream",
     "text": [
      "translate_clifford:\n",
      "\t ()\n",
      "\t ('H(1)', 'H(0)')\n",
      "\t ('CZ(1,2)', 'CZ(0,2)', 'CNOT(0,1)')\n"
     ]
    }
   ],
   "source": [
    "f = translate_clifford(code.space, E, verbose=True)"
   ]
  },
  {
   "cell_type": "code",
   "execution_count": 21,
   "id": "df304c10",
   "metadata": {},
   "outputs": [
    {
     "name": "stdout",
     "output_type": "stream",
     "text": [
      "H =\n",
      "ZZ.\n",
      ".ZZ\n",
      "XXX\n",
      "T =\n",
      "X..\n",
      "XX.\n",
      "..Z\n"
     ]
    }
   ],
   "source": [
    "print(code.longstr())"
   ]
  },
  {
   "cell_type": "code",
   "execution_count": 22,
   "id": "420fca57",
   "metadata": {},
   "outputs": [
    {
     "data": {
      "text/plain": [
       "True"
      ]
     },
     "execution_count": 22,
     "metadata": {},
     "output_type": "execute_result"
    }
   ],
   "source": [
    "s = code.space\n",
    "g = s.get_H(0)*s.get_H(1)*s.get_CZ(1,2)*s.get_CZ(0,2)*s.get_CNOT(0,1)\n",
    "g==E"
   ]
  },
  {
   "cell_type": "code",
   "execution_count": 23,
   "id": "0682cef2",
   "metadata": {},
   "outputs": [
    {
     "name": "stdout",
     "output_type": "stream",
     "text": [
      ".1.11.\n",
      "1.....\n",
      "...11.\n",
      "1.1...\n",
      "....1.\n",
      "..1..1\n"
     ]
    }
   ],
   "source": [
    "print(shortstr(g))"
   ]
  },
  {
   "cell_type": "code",
   "execution_count": null,
   "id": "9642e9ed",
   "metadata": {},
   "outputs": [],
   "source": []
  }
 ],
 "metadata": {
  "kernelspec": {
   "display_name": "Python 3 (ipykernel)",
   "language": "python",
   "name": "python3"
  },
  "language_info": {
   "codemirror_mode": {
    "name": "ipython",
    "version": 3
   },
   "file_extension": ".py",
   "mimetype": "text/x-python",
   "name": "python",
   "nbconvert_exporter": "python",
   "pygments_lexer": "ipython3",
   "version": "3.10.12"
  }
 },
 "nbformat": 4,
 "nbformat_minor": 5
}
