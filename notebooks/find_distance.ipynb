{
 "cells": [
  {
   "cell_type": "code",
   "execution_count": 1,
   "id": "9faf05a6",
   "metadata": {},
   "outputs": [],
   "source": [
    "from qumba.qcode import QCode\n",
    "code = QCode.fromstr(\"\"\"\n",
    "X..XX.X...XXXXX...XX.XX.XXXXXX.\n",
    "XX.XX.X.X.X......XXXXXX....XX.X\n",
    "XXX.XXXX...XXX......XX..X.....X\n",
    "X...X.XXXXX.X.XX.X.X.......X..X\n",
    "X..X..X.XXX.....XX...XXX..XXX.X\n",
    ".X..X..X...XXXX....X..X.XXXX.X.\n",
    "XX.XXX..XXX...XX.XX.XXX..X.XXXX\n",
    "..XXXXXXXXX.X..XX.XXX..X.XXX...\n",
    ".XX.XX.X..XXX...X..XX.X..X.X..X\n",
    ".......X.....XX.XXXXXXXXX.X.X..\n",
    "XX.X.XX...XX.XXXX.XXXX.XXXX..XX\n",
    ".XX..X.XXX..XXX..XX.........X..\n",
    ".XXXX...X.....X....XX.XX....XXX\n",
    ".XXX....X.XXXXX.XX...XXXX.X.X.X\n",
    ".X.X....XXX...X...XXXX.XX.X....\n",
    "...ZZ.Z.ZZZZZZ.ZZ..ZZZ.Z.Z.Z.ZZ\n",
    "ZZ...Z.Z...ZZZ.Z...ZZ..Z...ZZZ.\n",
    "..Z.ZZ..ZZ.......ZZ..ZZZZ..Z..Z\n",
    "..ZZZ.ZZ..Z.Z......ZZZ...ZZZZZZ\n",
    "ZZZ.......Z.Z..ZZZ...Z.ZZ.ZZ.Z.\n",
    "Z..ZZZ.....ZZZ.Z.Z.Z..ZZ..Z..Z.\n",
    ".ZZZ..Z..ZZ..Z.Z.ZZZ.Z..Z......\n",
    "Z...Z.ZZZ....Z.Z...ZZ..Z.Z.ZZ..\n",
    ".ZZZ..ZZZ.Z.....Z....Z..ZZ.....\n",
    "Z..Z.Z.ZZZ.ZZZ.Z...ZZZZ.Z.Z...Z\n",
    ".ZZ.ZZZ.Z..ZZ.ZZZZZZ.Z..Z.ZZ.ZZ\n",
    "ZZZZ...ZZZ.ZZZZ.ZZ..ZZZZZZZZZZ.\n",
    "Z.ZZZZ...ZZZZZ.Z.Z.Z.ZZZ.......\n",
    "...ZZZZ...ZZZ....ZZZ..Z.ZZZ....\n",
    ".Z.....ZZZZ...ZZZ...Z.Z....ZZZZ\n",
    "\"\"\")"
   ]
  },
  {
   "cell_type": "code",
   "execution_count": 2,
   "id": "2df517ee",
   "metadata": {},
   "outputs": [
    {
     "data": {
      "text/plain": [
       "5"
      ]
     },
     "execution_count": 2,
     "metadata": {},
     "output_type": "execute_result"
    }
   ],
   "source": [
    "code.distance(\"z3\")"
   ]
  },
  {
   "cell_type": "code",
   "execution_count": null,
   "id": "165e26c1",
   "metadata": {},
   "outputs": [],
   "source": []
  }
 ],
 "metadata": {
  "kernelspec": {
   "display_name": "Python 3",
   "language": "python",
   "name": "python3"
  },
  "language_info": {
   "codemirror_mode": {
    "name": "ipython",
    "version": 3
   },
   "file_extension": ".py",
   "mimetype": "text/x-python",
   "name": "python",
   "nbconvert_exporter": "python",
   "pygments_lexer": "ipython3",
   "version": "3.10.12"
  }
 },
 "nbformat": 4,
 "nbformat_minor": 5
}
